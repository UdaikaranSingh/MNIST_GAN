{
 "cells": [
  {
   "cell_type": "code",
   "execution_count": 7,
   "metadata": {},
   "outputs": [],
   "source": [
    "import torch as torch\n",
    "import torch.nn as nn\n",
    "import torch.nn.functional as F"
   ]
  },
  {
   "cell_type": "code",
   "execution_count": 61,
   "metadata": {},
   "outputs": [],
   "source": [
    "class Generator(nn.Module):\n",
    "    \n",
    "    def __init__(self, batch_size, latent_space):\n",
    "        super(Generator, self).__init__()\n",
    "        \n",
    "        #storing variables\n",
    "        self.latent_space = latent_space\n",
    "        self.batch_size = batch_size\n",
    "        \n",
    "        #architecture\n",
    "        self.fully_connected = nn.Linear(in_features = self.latent_space, out_features = 8192)\n",
    "        self.conv1 = nn.Conv2d(in_channels= 8, out_channels= 16, kernel_size= 3, stride= 1)\n",
    "        self.conv2 = nn.Conv2d(in_channels= 16, out_channels= 16, kernel_size= 3, stride= 1)\n",
    "        self.conv3 = nn.Conv2d(in_channels= 16, out_channels= 3, kernel_size= 1, stride= 1)\n",
    "    def forward(self, z):\n",
    "        # input: z has the shape (batch size x latent space size)\n",
    "        # output: (batch size x 3 x 28 x 28) \n",
    "        out = self.fully_connected(z)\n",
    "        out = out.view((self.batch_size, 8, 32, 32))\n",
    "        out = F.relu(self.conv1(out))\n",
    "        out = F.relu(self.conv2(out))\n",
    "        out = torch.sigmoid(self.conv3(out))\n",
    "        \n",
    "        return out"
   ]
  },
  {
   "cell_type": "code",
   "execution_count": 91,
   "metadata": {},
   "outputs": [],
   "source": [
    "class Discriminator(nn.Module):\n",
    "    \n",
    "    def __init__(self, batch_size, latent_space):\n",
    "        super(Discriminator, self).__init__()\n",
    "        \n",
    "        #storing variables\n",
    "        self.latent_space = latent_space\n",
    "        self.batch_size = batch_size\n",
    "        \n",
    "        #architecture\n",
    "        self.conv1 = nn.Conv2d(in_channels= 3, out_channels= 16, kernel_size= 3, stride= 2)\n",
    "        self.conv2 = nn.Conv2d(in_channels= 16, out_channels= 32, kernel_size= 3, stride= 2)\n",
    "        self.conv3 = nn.Conv2d(in_channels= 32, out_channels= 64, kernel_size= 3, stride= 2)\n",
    "        \n",
    "        self.fully_connected1 = nn.Linear(in_features= 256, out_features= 128)\n",
    "        self.fully_connected2 = nn.Linear(in_features= 128, out_features= 1)\n",
    "    \n",
    "    def forward(self, x):\n",
    "        # input: x has a shape (batch size x 3 x 28 x 28)\n",
    "        # output: size is (batch size x 1 x 1 x 1)\n",
    "        out = F.relu(self.conv1(x))\n",
    "        out = F.relu(self.conv2(out))\n",
    "        out = F.relu(self.conv3(out))\n",
    "        \n",
    "        out = out.view((self.batch_size, 256))\n",
    "        out = F.relu(self.fully_connected1(out))\n",
    "        out = F.relu(self.fully_connected2(out))\n",
    "        \n",
    "        return out"
   ]
  },
  {
   "cell_type": "code",
   "execution_count": 92,
   "metadata": {},
   "outputs": [],
   "source": [
    "batch_size = 16\n",
    "latent_size = 20"
   ]
  },
  {
   "cell_type": "code",
   "execution_count": 93,
   "metadata": {},
   "outputs": [],
   "source": [
    "gen = Generator(batch_size, latent_size)"
   ]
  },
  {
   "cell_type": "code",
   "execution_count": 94,
   "metadata": {},
   "outputs": [],
   "source": [
    "dis = Discriminator(batch_size, latent_size)"
   ]
  },
  {
   "cell_type": "code",
   "execution_count": 95,
   "metadata": {},
   "outputs": [],
   "source": [
    "z = torch.rand((batch_size, 3, 28, 28))"
   ]
  },
  {
   "cell_type": "code",
   "execution_count": 96,
   "metadata": {},
   "outputs": [
    {
     "data": {
      "text/plain": [
       "torch.Size([16, 1])"
      ]
     },
     "execution_count": 96,
     "metadata": {},
     "output_type": "execute_result"
    }
   ],
   "source": [
    "dis(z).shape"
   ]
  },
  {
   "cell_type": "code",
   "execution_count": null,
   "metadata": {},
   "outputs": [],
   "source": []
  }
 ],
 "metadata": {
  "kernelspec": {
   "display_name": "Python 3",
   "language": "python",
   "name": "python3"
  },
  "language_info": {
   "codemirror_mode": {
    "name": "ipython",
    "version": 3
   },
   "file_extension": ".py",
   "mimetype": "text/x-python",
   "name": "python",
   "nbconvert_exporter": "python",
   "pygments_lexer": "ipython3",
   "version": "3.6.5"
  }
 },
 "nbformat": 4,
 "nbformat_minor": 2
}
